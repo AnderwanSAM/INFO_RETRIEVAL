{
 "cells": [
  {
   "cell_type": "markdown",
   "id": "a5b28062",
   "metadata": {},
   "source": [
    "!pip install opencv-python numpy"
   ]
  },
  {
   "cell_type": "code",
   "execution_count": 5,
   "id": "05477b1f",
   "metadata": {},
   "outputs": [
    {
     "name": "stdout",
     "output_type": "stream",
     "text": [
      "The folder exists.\n"
     ]
    }
   ],
   "source": [
    "import os\n",
    "\n",
    "folder_path = \"../../../../Benchmark/images\"\n",
    "\n",
    "if os.path.exists(folder_path) and os.path.isdir(folder_path):\n",
    "    print(\"The folder exists.\")\n",
    "else:\n",
    "    print(\"The folder does not exist.\")\n"
   ]
  },
  {
   "cell_type": "code",
   "execution_count": 6,
   "id": "50866ea7",
   "metadata": {},
   "outputs": [],
   "source": [
    "import cv2\n",
    "import numpy as np\n",
    "import os"
   ]
  },
  {
   "cell_type": "code",
   "execution_count": 7,
   "id": "4c0ce1fa",
   "metadata": {},
   "outputs": [],
   "source": [
    "def get_vector(image, bins=32):\n",
    "    red = cv2.calcHist(\n",
    "        [image], [2], None, [bins], [0, 256]\n",
    "    )\n",
    "    green = cv2.calcHist(\n",
    "        [image], [1], None, [bins], [0, 256]\n",
    "    )\n",
    "    blue = cv2.calcHist(\n",
    "        [image], [0], None, [bins], [0, 256]\n",
    "    )\n",
    "    vector = np.concatenate([red, green, blue], axis=0)\n",
    "    vector = vector.reshape(-1)\n",
    "    return vector\n"
   ]
  },
  {
   "cell_type": "code",
   "execution_count": 8,
   "id": "64149376",
   "metadata": {},
   "outputs": [
    {
     "data": {
      "text/plain": [
       "'../../../../Benchmark/images'"
      ]
     },
     "execution_count": 8,
     "metadata": {},
     "output_type": "execute_result"
    }
   ],
   "source": [
    "folder_path"
   ]
  },
  {
   "cell_type": "code",
   "execution_count": 9,
   "id": "14f05030",
   "metadata": {},
   "outputs": [],
   "source": [
    "def get_images_in_folder(folder_path):\n",
    "    images_list = []\n",
    "    # Iterate over each file in the folder\n",
    "    for filename in os.listdir(folder_path):\n",
    "        # Check if the file is a JPEG image\n",
    "        if filename.endswith(\".jpg\"):\n",
    "            # Create a full path to the image\n",
    "            img_path = os.path.join(folder_path, filename)\n",
    "            images_list.append(img_path)\n",
    "    return images_list\n",
    "\n"
   ]
  },
  {
   "cell_type": "code",
   "execution_count": 10,
   "id": "27d93baa",
   "metadata": {},
   "outputs": [
    {
     "name": "stdout",
     "output_type": "stream",
     "text": [
      "Length of the list: 15000\n",
      "=========\n",
      "==========\n"
     ]
    }
   ],
   "source": [
    "list_of_images = get_images_in_folder(folder_path)\n",
    "print(\"Length of the list:\", len(list_of_images))\n",
    "print(\"=========\")\n",
    "\n",
    "print(\"==========\")"
   ]
  },
  {
   "cell_type": "code",
   "execution_count": 11,
   "id": "4cad6537",
   "metadata": {},
   "outputs": [
    {
     "data": {
      "text/plain": [
       "'../../../../Benchmark/images/36eb1baf881ed8b2074934553bfb5.jpg'"
      ]
     },
     "execution_count": 11,
     "metadata": {},
     "output_type": "execute_result"
    }
   ],
   "source": [
    "list_of_images[0]"
   ]
  },
  {
   "cell_type": "code",
   "execution_count": 13,
   "id": "de826cbe",
   "metadata": {},
   "outputs": [
    {
     "name": "stdout",
     "output_type": "stream",
     "text": [
      "Length of the list: 15000\n"
     ]
    }
   ],
   "source": [
    "vectors_list = []\n",
    "\n",
    "for filename in list_of_images:\n",
    "    # Read the image using OpenCV\n",
    "    image = cv2.imread(filename)\n",
    "\n",
    "    # Convert it to RGB (since OpenCV loads images in BGR format by default)\n",
    "    image_rgb = cv2.cvtColor(image, cv2.COLOR_BGR2RGB)\n",
    "\n",
    "    # Compute the vector using your function\n",
    "    vector = get_vector(image_rgb)\n",
    "\n",
    "    # Append to the list\n",
    "    vectors_list.append(vector)\n",
    "\n",
    "print(\"Length of the list:\", len(vectors_list))\n"
   ]
  },
  {
   "cell_type": "code",
   "execution_count": 14,
   "id": "6fa27e7f",
   "metadata": {},
   "outputs": [
    {
     "data": {
      "text/plain": [
       "array([15699., 10109.,  9057.,  8892.,  8530.,  8354.,  6594.,  5934.,\n",
       "        6264.,  8245.,  9004., 11503.,  9501.,  9645.,  9374.,  6857.,\n",
       "        4884.,  4380.,  3889.,  3286.,   938.,   743.,   593.,   601.,\n",
       "         549.,   686.,   838.,   639.,   371.,   204.,   124.,   213.,\n",
       "        1813.,   849.,  1007.,  6599., 10715.,  8883.,  6981.,  9751.,\n",
       "        9852.,  7821.,  7262.,  7715.,  7552.,  8035.,  8613.,  9377.,\n",
       "        9266.,  8905.,  8056.,  5766.,  4255.,  4335.,  4531.,  2901.,\n",
       "         901.,   774.,   716.,   785.,   932.,   751.,   322.,   479.,\n",
       "        1107.,   561.,   669.,   928.,  1015.,  1338.,  2388.,  5332.,\n",
       "       12426., 11856., 10123.,  7626.,  7002.,  5478.,  5394.,  6124.,\n",
       "        6000.,  6569.,  6973.,  8116.,  8313.,  9146.,  7365.,  6213.,\n",
       "        5783.,  5490.,  7216.,  4785.,  1423.,  1337.,  1193.,  1211.],\n",
       "      dtype=float32)"
      ]
     },
     "execution_count": 14,
     "metadata": {},
     "output_type": "execute_result"
    }
   ],
   "source": [
    "vectors_list[0]"
   ]
  },
  {
   "cell_type": "code",
   "execution_count": null,
   "id": "14263dfd",
   "metadata": {},
   "outputs": [],
   "source": []
  }
 ],
 "metadata": {
  "kernelspec": {
   "display_name": "Python 3 (ipykernel)",
   "language": "python",
   "name": "python3"
  },
  "language_info": {
   "codemirror_mode": {
    "name": "ipython",
    "version": 3
   },
   "file_extension": ".py",
   "mimetype": "text/x-python",
   "name": "python",
   "nbconvert_exporter": "python",
   "pygments_lexer": "ipython3",
   "version": "3.9.7"
  }
 },
 "nbformat": 4,
 "nbformat_minor": 5
}
